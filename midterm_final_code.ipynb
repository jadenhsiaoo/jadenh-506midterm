{
 "cells": [
  {
   "cell_type": "code",
   "execution_count": 8,
   "metadata": {},
   "outputs": [
    {
     "name": "stdout",
     "output_type": "stream",
     "text": [
      "Best Model Accuracy: 0.6327856491252873\n",
      "Classification Report:\n",
      "               precision    recall  f1-score   support\n",
      "\n",
      "           1       0.57      0.53      0.55     18074\n",
      "           2       0.40      0.22      0.29     17604\n",
      "           3       0.44      0.31      0.36     35179\n",
      "           4       0.47      0.31      0.37     67127\n",
      "           5       0.71      0.90      0.79    159085\n",
      "\n",
      "    accuracy                           0.63    297069\n",
      "   macro avg       0.52      0.45      0.47    297069\n",
      "weighted avg       0.60      0.63      0.60    297069\n",
      "\n"
     ]
    }
   ],
   "source": [
    "# Import necessary libraries\n",
    "import pandas as pd\n",
    "from sklearn.feature_extraction.text import TfidfVectorizer\n",
    "from sklearn.model_selection import train_test_split, GridSearchCV\n",
    "from sklearn.linear_model import LogisticRegression\n",
    "from sklearn.pipeline import Pipeline\n",
    "from sklearn.metrics import accuracy_score, classification_report\n",
    "\n",
    "# Load the train and test data\n",
    "train_data = pd.read_csv('train.csv')\n",
    "test_data = pd.read_csv('test.csv')\n",
    "\n",
    "# Merge `test_data` with `train_data` if needed to match columns\n",
    "test_data_merged = test_data.merge(train_data.drop(columns='Score'), on='Id', how='left')\n",
    "\n",
    "# Preprocess text by filling NaN values with empty strings and combining Summary and Text\n",
    "train_data['Summary'] = train_data['Summary'].fillna(\"\")\n",
    "train_data['Text'] = train_data['Text'].fillna(\"\")\n",
    "train_data['Combined_Text'] = train_data['Summary'] + \" \" + train_data['Text']\n",
    "\n",
    "test_data_merged['Summary'] = test_data_merged['Summary'].fillna(\"\")\n",
    "test_data_merged['Text'] = test_data_merged['Text'].fillna(\"\")\n",
    "test_data_merged['Combined_Text'] = test_data_merged['Summary'] + \" \" + test_data_merged['Text']\n",
    "train_data = train_data.dropna(subset=['Score'])\n",
    "\n",
    "# Define features and target\n",
    "X = train_data['Combined_Text']\n",
    "y = train_data['Score'].astype(int)\n",
    "\n",
    "# Split train data for evaluation\n",
    "X_train, X_test, Y_train, Y_test = train_test_split(X, y, test_size=0.2, random_state=42)\n",
    "\n",
    "# Build the model pipeline with TF-IDF and Logistic Regression\n",
    "pipeline = Pipeline([\n",
    "    ('tfidf', TfidfVectorizer(max_features=1000, stop_words='english')),\n",
    "    ('classifier', LogisticRegression(max_iter=1000, random_state=42))\n",
    "])\n",
    "\n",
    "# Parameter grid for GridSearchCV\n",
    "param_grid = {\n",
    "    'tfidf__max_features': [500, 1000, 1500],\n",
    "    'classifier__C': [0.1, 1, 10]\n",
    "}\n",
    "\n",
    "# Run GridSearchCV to tune parameters\n",
    "grid_search = GridSearchCV(pipeline, param_grid, cv=3, scoring='accuracy', n_jobs=-1)\n",
    "grid_search.fit(X_train, Y_train)\n",
    "\n",
    "# Best model evaluation on test set\n",
    "best_model = grid_search.best_estimator_\n",
    "Y_test_predictions = best_model.predict(X_test)\n",
    "accuracy = accuracy_score(Y_test, Y_test_predictions)\n",
    "classification_report_text = classification_report(Y_test, Y_test_predictions)\n",
    "\n",
    "# Print model evaluation\n",
    "print(\"Best Model Accuracy:\", accuracy)\n",
    "print(\"Classification Report:\\n\", classification_report_text)\n",
    "\n"
   ]
  },
  {
   "cell_type": "code",
   "execution_count": 9,
   "metadata": {},
   "outputs": [],
   "source": [
    "# Apply the best model to test data for final prediction\n",
    "test_bow_features = test_data_merged['Combined_Text']\n",
    "test_predictions = best_model.predict(test_bow_features)\n",
    "\n",
    "# Create a submission file\n",
    "submission = pd.DataFrame({'Id': test_data_merged['Id'], 'Score': test_predictions})\n",
    "submission.to_csv('submission.csv', index=False)"
   ]
  },
  {
   "cell_type": "code",
   "execution_count": 10,
   "metadata": {},
   "outputs": [
    {
     "name": "stdout",
     "output_type": "stream",
     "text": [
      "Pipeline(steps=[('tfidf',\n",
      "                 TfidfVectorizer(max_features=1500, stop_words='english')),\n",
      "                ('classifier',\n",
      "                 LogisticRegression(C=10, max_iter=1000, random_state=42))])\n"
     ]
    }
   ],
   "source": [
    "print(best_model)"
   ]
  }
 ],
 "metadata": {
  "kernelspec": {
   "display_name": "Python 3",
   "language": "python",
   "name": "python3"
  },
  "language_info": {
   "codemirror_mode": {
    "name": "ipython",
    "version": 3
   },
   "file_extension": ".py",
   "mimetype": "text/x-python",
   "name": "python",
   "nbconvert_exporter": "python",
   "pygments_lexer": "ipython3",
   "version": "3.13.0"
  }
 },
 "nbformat": 4,
 "nbformat_minor": 2
}
